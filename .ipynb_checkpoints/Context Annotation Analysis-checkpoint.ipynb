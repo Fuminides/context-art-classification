{
 "cells": [
  {
   "cell_type": "code",
   "execution_count": 30,
   "metadata": {},
   "outputs": [
    {
     "data": {
      "text/plain": [
       "<module 'text_encoding' from 'C:\\\\Users\\\\javi-\\\\OneDrive\\\\Documentos\\\\GitHub\\\\context-art-classification\\\\text_encoding.py'>"
      ]
     },
     "execution_count": 30,
     "metadata": {},
     "output_type": "execute_result"
    }
   ],
   "source": [
    "import numpy as np\n",
    "import pandas as pd\n",
    "import matplotlib.pyplot as plt\n",
    "\n",
    "\n",
    "import annotation_analysis as an\n",
    "from Data import symbol_graph as sg\n",
    "import text_encoding\n",
    "from importlib import reload\n",
    "reload(an); reload(sg); reload(text_encoding)"
   ]
  },
  {
   "cell_type": "code",
   "execution_count": 5,
   "metadata": {},
   "outputs": [],
   "source": [
    "an.args_dict.dir_dataset = r'E:\\Mi unidad\\Code\\SemArt\\\\'"
   ]
  },
  {
   "cell_type": "markdown",
   "metadata": {},
   "source": [
    "# Modalidad 1: coger las top 100"
   ]
  },
  {
   "cell_type": "code",
   "execution_count": 66,
   "metadata": {},
   "outputs": [],
   "source": [
    "chosen_coded_semart_train, chosen_coded_semart_val, chosen_coded_semart_test, word_names = \\\n",
    "            text_encoding.bow_load_train_text_corpus(an.args_dict.dir_dataset, append='append', k=100, top=True, explain=True)"
   ]
  },
  {
   "cell_type": "code",
   "execution_count": 67,
   "metadata": {},
   "outputs": [
    {
     "data": {
      "text/plain": [
       "array(['painting', 'painted', 'st', 'work', 'picture', 'figures', 'left',\n",
       "       'portrait', 'paintings', 'artist', 'right', 'century', 'life',\n",
       "       'scene', 'christ', 'painter', 'scenes', 'shows', 'van', 'panel',\n",
       "       'landscape', 'church', 'composition', 'virgin', 'art', 'subject',\n",
       "       'figure', 'works', 'light', 'time', 'wall', 'style', 'background',\n",
       "       'altarpiece', 'portraits', 'known', 'like', 'probably', 'man',\n",
       "       'small', 'saint', 'hand', 'child', 'large', 'early', 'young',\n",
       "       'present', 'great', 'john', 'later', 'new', 'seen', 'rome',\n",
       "       'depicted', 'family', 'years', 'executed', 'depicts', 'panels',\n",
       "       'woman', 'pictures', 'artists', 'mary', 'fresco', 'view', 'king',\n",
       "       'painters', 'old', 'chapel', 'central', 'san', 'foreground',\n",
       "       'commissioned', 'series', 'colour', 'centre', 'master', 'death',\n",
       "       'group', 'son', 'room', 'period', 'influence', 'saints', 'dutch',\n",
       "       'ceiling', 'city', 'head', 'madonna', 'example', 'di', 'signed',\n",
       "       'represents', 'important', 'way', 'number', 'paris', 'space',\n",
       "       'set', 'venice'], dtype=object)"
      ]
     },
     "execution_count": 67,
     "metadata": {},
     "output_type": "execute_result"
    }
   ],
   "source": [
    "word_names"
   ]
  },
  {
   "cell_type": "code",
   "execution_count": 68,
   "metadata": {},
   "outputs": [
    {
     "name": "stdout",
     "output_type": "stream",
     "text": [
      "['venice', 'set', 'space', 'paris', 'number', 'way', 'important', 'represents', 'signed', 'di', 'example', 'madonna', 'head', 'city', 'ceiling', 'dutch', 'saints', 'influence', 'period', 'room', 'son', 'group', 'death', 'master', 'centre', 'colour', 'series', 'commissioned', 'foreground', 'san', 'central', 'chapel', 'old', 'painters', 'king', 'view', 'fresco', 'mary', 'artists', 'pictures', 'woman', 'panels', 'depicts', 'executed', 'years', 'family', 'depicted', 'rome', 'seen', 'new', 'later', 'john', 'great', 'present', 'young', 'early', 'large', 'child', 'hand', 'saint', 'small', 'man', 'probably', 'like', 'known', 'portraits', 'altarpiece', 'background', 'style', 'wall', 'time', 'light', 'works', 'figure', 'subject', 'art', 'virgin', 'composition', 'church', 'landscape', 'panel', 'van', 'shows', 'scenes', 'painter', 'christ', 'scene', 'life', 'century', 'right', 'artist', 'paintings', 'portrait', 'left', 'figures', 'picture', 'work', 'st', 'painted', 'painting']\n",
      "[[  880   899   910   922   924   925   926   929   934   943   950   959\n",
      "    960   963   968   978   980  1000  1004  1006  1014  1019  1051  1052\n",
      "   1065  1067  1077  1115  1122  1135  1172  1172  1174  1178  1196  1215\n",
      "   1239  1255  1285  1307  1308  1311  1353  1354  1369  1371  1371  1409\n",
      "   1414  1416  1431  1442  1451  1457  1461  1512  1528  1572  1581  1590\n",
      "   1594  1607  1622  1641  1697  1707  1785  1833  1834  1877  1905  1908\n",
      "   2063  2089  2177  2204  2249  2352  2393  2443  2542  2654  2659  2662\n",
      "   2828  2843  2961  3138  3185  3280  3296  3516  3528  3594  3631  3844\n",
      "   3847  4878  5383 12203]]\n"
     ]
    }
   ],
   "source": [
    "formatted_argsort = [np.argsort(chosen_coded_semart_train.sum(axis=0))[0, x] for x in range(100)]\n",
    "print([word_names[x] for x in formatted_argsort])\n",
    "print(np.sort(chosen_coded_semart_train.sum(axis=0)))"
   ]
  },
  {
   "cell_type": "code",
   "execution_count": 107,
   "metadata": {},
   "outputs": [
    {
     "data": {
      "text/plain": [
       "matrix([[5]])"
      ]
     },
     "execution_count": 107,
     "metadata": {},
     "output_type": "execute_result"
    }
   ],
   "source": [
    "(chosen_coded_semart_train.sum(axis=1)==0).sum(axis=0)"
   ]
  },
  {
   "cell_type": "code",
   "execution_count": 114,
   "metadata": {},
   "outputs": [
    {
     "data": {
      "text/plain": [
       "[<matplotlib.lines.Line2D at 0x1c1d13d2370>]"
      ]
     },
     "execution_count": 114,
     "metadata": {},
     "output_type": "execute_result"
    },
    {
     "data": {
      "image/png": "[encoded data removed]",
      "text/plain": [
       "<Figure size 432x288 with 1 Axes>"
      ]
     },
     "metadata": {
      "needs_background": "light"
     },
     "output_type": "display_data"
    }
   ],
   "source": [
    "plt.plot(np.sort(chosen_coded_semart_train.mean(axis=1), axis=0))"
   ]
  },
  {
   "cell_type": "markdown",
   "metadata": {},
   "source": [
    "## Modalidad 2: coger las que aparecen más de 10 veces"
   ]
  },
  {
   "cell_type": "code",
   "execution_count": null,
   "metadata": {},
   "outputs": [],
   "source": [
    "chosen_coded_semart_train, chosen_coded_semart_val, chosen_coded_semart_test, word_names = \\\n",
    "            text_encoding.bow_load_train_text_corpus(an.args_dict.dir_dataset, append='append', k=10, top=False, explain=True)"
   ]
  },
  {
   "cell_type": "code",
   "execution_count": 62,
   "metadata": {},
   "outputs": [
    {
     "data": {
      "text/plain": [
       "1.0"
      ]
     },
     "execution_count": 62,
     "metadata": {},
     "output_type": "execute_result"
    }
   ],
   "source": [
    "np.mean(chosen_coded_semart_train.sum(axis=1)>0)"
   ]
  },
  {
   "cell_type": "code",
   "execution_count": null,
   "metadata": {},
   "outputs": [],
   "source": [
    "plt.plot(np.sort(chosen_coded_semart_train.mean(axis=1), axis=0))"
   ]
  },
  {
   "cell_type": "markdown",
   "metadata": {},
   "source": [
    "## Análisis comunes"
   ]
  },
  {
   "cell_type": "code",
   "execution_count": 75,
   "metadata": {},
   "outputs": [],
   "source": [
    "tentative_size = 1000\n",
    "chosen_coded_semart_train, chosen_coded_semart_val, chosen_coded_semart_test, word_names = \\\n",
    "            text_encoding.bow_load_train_text_corpus(an.args_dict.dir_dataset, append='append', k=tentative_size, top=True, explain=True)"
   ]
  },
  {
   "cell_type": "code",
   "execution_count": 81,
   "metadata": {},
   "outputs": [
    {
     "data": {
      "text/plain": [
       "(1, 1000)"
      ]
     },
     "execution_count": 81,
     "metadata": {},
     "output_type": "execute_result"
    }
   ],
   "source": []
  },
  {
   "cell_type": "code",
   "execution_count": 100,
   "metadata": {},
   "outputs": [],
   "source": [
    "most_common_words_sorted = np.argsort(chosen_coded_semart_train.sum(axis=0))\n",
    "most_common_words_sorted = [most_common_words_sorted[0,x] for x in range(tentative_size)][::-1]"
   ]
  },
  {
   "cell_type": "code",
   "execution_count": 105,
   "metadata": {},
   "outputs": [],
   "source": [
    "list_words = np.full((tentative_size,), False, dtype=bool)\n",
    "res = []\n",
    "for ix, word_ix in enumerate(most_common_words_sorted):\n",
    "    list_words[word_ix] = True\n",
    "    paintings_present = np.mean(chosen_coded_semart_train[:, list_words].sum(axis=1)>0)\n",
    "    #list_words[word_ix] = False\n",
    "    res.append(paintings_present)\n"
   ]
  },
  {
   "cell_type": "code",
   "execution_count": 106,
   "metadata": {},
   "outputs": [
    {
     "data": {
      "text/plain": [
       "[<matplotlib.lines.Line2D at 0x1c1d0577fa0>]"
      ]
     },
     "execution_count": 106,
     "metadata": {},
     "output_type": "execute_result"
    },
    {
     "data": {
      "image/png": "[encoded data removed]",
      "text/plain": [
       "<Figure size 432x288 with 1 Axes>"
      ]
     },
     "metadata": {
      "needs_background": "light"
     },
     "output_type": "display_data"
    }
   ],
   "source": [
    "plt.plot(res)"
   ]
  }
 ],
 "metadata": {
  "kernelspec": {
   "display_name": "Python 3 (ipykernel)",
   "language": "python",
   "name": "python3"
  },
  "language_info": {
   "codemirror_mode": {
    "name": "ipython",
    "version": 3
   },
   "file_extension": ".py",
   "mimetype": "text/x-python",
   "name": "python",
   "nbconvert_exporter": "python",
   "pygments_lexer": "ipython3",
   "version": "3.9.12"
  }
 },
 "nbformat": 4,
 "nbformat_minor": 4
}
