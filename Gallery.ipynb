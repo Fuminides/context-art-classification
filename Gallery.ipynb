{
 "cells": [
  {
   "cell_type": "code",
   "execution_count": 1,
   "metadata": {},
   "outputs": [
    {
     "data": {
      "text/plain": [
       "<module 'Data.symbol_graph' from '/home/javierfumanal/Documents/GitHub/context-art-classification/Data/symbol_graph.py'>"
      ]
     },
     "execution_count": 1,
     "metadata": {},
     "output_type": "execute_result"
    }
   ],
   "source": [
    "import annotation_analysis as an\n",
    "from Data import symbol_graph as sg\n",
    "from importlib import reload\n",
    "reload(an); reload(sg)"
   ]
  },
  {
   "cell_type": "code",
   "execution_count": 3,
   "metadata": {},
   "outputs": [],
   "source": [
    "symbol_context, paintings_names, symbols_names = an.__load_semart_proxy(mode='train')\n",
    "semart_Gallery = Gallery(symbols_names, paintings_names, symbol_context, args_dict.dir_dataset)"
   ]
  }
 ],
 "metadata": {
  "kernelspec": {
   "display_name": "Python 3 (ipykernel)",
   "language": "python",
   "name": "python3"
  },
  "language_info": {
   "codemirror_mode": {
    "name": "ipython",
    "version": 3
   },
   "file_extension": ".py",
   "mimetype": "text/x-python",
   "name": "python",
   "nbconvert_exporter": "python",
   "pygments_lexer": "ipython3",
   "version": "3.9.12"
  }
 },
 "nbformat": 4,
 "nbformat_minor": 4
}
